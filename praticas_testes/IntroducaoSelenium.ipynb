{
 "cells": [
  {
   "cell_type": "markdown",
   "id": "9f7bccdb-bed8-4882-93cf-74170c5f2bdf",
   "metadata": {},
   "source": [
    "# **Automação Web com Selenium**"
   ]
  },
  {
   "cell_type": "markdown",
   "id": "e2477321-1a0c-418c-8ebf-dd17b63da995",
   "metadata": {},
   "source": [
    "- **Pyhton + Selenium**"
   ]
  },
  {
   "cell_type": "markdown",
   "id": "02db242d-1347-4e50-8963-b3e2ebee8383",
   "metadata": {},
   "source": [
    "- 2 requisitos:\n",
    "    - instalar o **Selenium**\n",
    "    - **Webdriver Manager**: faz a gestão/controle das sversoes dos Webdrivers"
   ]
  },
  {
   "cell_type": "markdown",
   "id": "48f00830-1114-435e-8239-f76a02aca7f4",
   "metadata": {},
   "source": [
    "## O que precisa fazer para importar o nosso código?\n",
    "\n",
    "    1. Precisa importar o Selenium \n",
    "    2. E mandar ele criar um navegador\n",
    "\n",
    "- WebDriver do Chrome: **chromedriver**\n",
    "- WebDriver do Firefox: **geckodriver**"
   ]
  },
  {
   "cell_type": "code",
   "execution_count": 10,
   "id": "3160f6dd-2d85-430c-aca0-02710353cc4d",
   "metadata": {},
   "outputs": [],
   "source": [
    "# 1.0 Criando navegador\n",
    "from selenium import webdriver\n",
    "from webdriver_manager.chrome import ChromeDriverManager\n",
    "from selenium.webdriver.chrome.service  import Service\n",
    "\n",
    "servico = Service(ChromeDriverManager().install())\n",
    "\n",
    "navegador = webdriver.Chrome(service = servico)"
   ]
  },
  {
   "cell_type": "markdown",
   "id": "e81befee-9f54-42b6-9252-99f468905d69",
   "metadata": {},
   "source": [
    "## Navegador gerado/aberto pelo Webdriver"
   ]
  },
  {
   "cell_type": "markdown",
   "id": "e333b534-6e89-4dad-882c-65bc7be86e59",
   "metadata": {},
   "source": [
    "![Página gerada pelo WebbDr](print1.png)"
   ]
  },
  {
   "cell_type": "code",
   "execution_count": 2,
   "id": "a5a8a53d-894b-4424-804d-0f8ee7759dda",
   "metadata": {},
   "outputs": [],
   "source": [
    "# Para aprender, vamos usar o Python para preencher um formulário na internt\n",
    "\n",
    "# Passo 1: Entrar em algum link especifico da internet\n",
    "# Passo 2: Preencher nome, preencher e-mail\n",
    "# Passo 3: Clicar no botão para enviar o formulário"
   ]
  },
  {
   "cell_type": "markdown",
   "id": "66096949-1338-450f-bb71-cfa773145e43",
   "metadata": {},
   "source": [
    "- Obs: É importe inicar os códigos acima para poder iniciar o código do navegador.get(URL) para que a página do Chrome seja aberta no site desejado como Pinterest no exemplo abaixo."
   ]
  },
  {
   "cell_type": "code",
   "execution_count": 18,
   "id": "1e07ab48-837c-4444-b3b1-afbfc7876f29",
   "metadata": {},
   "outputs": [],
   "source": [
    "# 1.1Preenchendo com as informações\n",
    "\n",
    "# Passo 1: vai entrar no site\n",
    "navegador.get(\"https://dlp.hashtagtreinamentos.com/python/minicurso/minicurso-automacao/inscricao?curso=python&origemurl=hashtag_yt_org_minipython_8AMNaVt0z_M&utm_campaign=programacao&utm_content=python%2Fminicurso%2Fminicurso-automacao%2Finscricao&conversion=lespy-Jun-25\") # método get() vai permitir ir para uma página específica\n",
    "\n",
    "# Passo 2: prencher\n",
    "navegador.find_element(\"xpath\",'//*[@id=\"firstname\"]').send_keys(\"Joãozinho\") # ferramenta dentro do Selenium para encotrar qlqr pagina, comando que te permite encontrar um elemento dentro do site\n",
    "navegador.find_element(\"xpath\",'//*[@id=\"email\"]').send_keys(\"joaozinho@email.com\")\n",
    "navegador.find_element(\"xpath\", '//*[@id=\"phone\"]').send_keys(\"4287654321\")\n",
    "\n",
    "# Passo 3: clicar no botão para participar\n",
    "navegador.find_element(\"xpath\",'//*[@id=\"_form_1925_submit\"]').click()\n",
    "\n",
    "# Clicar para acessar o Minicurso Automação em Python\n",
    "navegador.find_element(\"xpath\",'//*[@id=\"botao-minicurso\"]').click()"
   ]
  },
  {
   "cell_type": "markdown",
   "id": "314114a6-ffe1-4b6b-96cc-7198d5e1a785",
   "metadata": {
    "jp-MarkdownHeadingCollapsed": true
   },
   "source": [
    "## Passos"
   ]
  },
  {
   "cell_type": "markdown",
   "id": "7359f2be-30e7-474d-b3dc-a01e2c53687d",
   "metadata": {},
   "source": [
    "1. Abra a página e procure a opcao **inspecionar**\n",
    "2. Clique na flecha com quadradro traçado ou use o atalho Ctr+Shft+C e aguarde\n",
    "3. Selecione o elemento que deseja\n",
    "4. Copie o elemento que foi informado na área de inspação\n",
    "5. Copy XPath\n",
    "6. Cole no código ao lado do \"xpath\", '' <- a direita"
   ]
  },
  {
   "cell_type": "markdown",
   "id": "2273e203-34a0-4e32-a131-7feb63289a3e",
   "metadata": {
    "jp-MarkdownHeadingCollapsed": true
   },
   "source": [
    "## Utilizamos 2 métodos:"
   ]
  },
  {
   "cell_type": "markdown",
   "id": "38aa473c-bfbe-47ac-a987-469b7ec0300d",
   "metadata": {},
   "source": [
    " - **.click()** : para poder clicar (botoes, links  para clicar neles)\n",
    " - **.send_keys()** : para escrever dentro do elemento"
   ]
  },
  {
   "cell_type": "markdown",
   "id": "5c77c569-1f68-4963-b2b0-f5a5f0332c9f",
   "metadata": {},
   "source": [
    "## Informações"
   ]
  },
  {
   "cell_type": "markdown",
   "id": "371a086d-3983-47fa-90b0-313d98841337",
   "metadata": {},
   "source": [
    "- Xpath é o caminho para editar o componente especifico do navegador\n",
    "- Qual é o \"xpath\" do elemento que voce esta encontrando?\n",
    "- Todo elemento de um site, ele tem um código por trás dele, como se fosse um  ID, uma referência para aquele elemento. Tem várias\n",
    "- Todo elemento de todo código tem um XPATH por trás dele\n",
    "- Vou encontrar o elemento por meio do 'xpath' dele\n",
    "- Após a vírgula vai passar qual é o 'xpath' do elemento que eu quero encontrar"
   ]
  },
  {
   "cell_type": "markdown",
   "id": "f0b13401-284f-4ce6-875d-3d90685de016",
   "metadata": {},
   "source": [
    "## Acesso realizado com Sucesso"
   ]
  },
  {
   "cell_type": "markdown",
   "id": "612bd93f-a624-4fa8-9af0-5abc9e978554",
   "metadata": {},
   "source": [
    "![Página de Acesso ao Minicurso](print2.png)"
   ]
  }
 ],
 "metadata": {
  "kernelspec": {
   "display_name": "Python [conda env:base] *",
   "language": "python",
   "name": "conda-base-py"
  },
  "language_info": {
   "codemirror_mode": {
    "name": "ipython",
    "version": 3
   },
   "file_extension": ".py",
   "mimetype": "text/x-python",
   "name": "python",
   "nbconvert_exporter": "python",
   "pygments_lexer": "ipython3",
   "version": "3.12.7"
  }
 },
 "nbformat": 4,
 "nbformat_minor": 5
}
